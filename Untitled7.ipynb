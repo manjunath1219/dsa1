{
 "cells": [
  {
   "cell_type": "code",
   "execution_count": null,
   "id": "f67ac3f6",
   "metadata": {},
   "outputs": [],
   "source": [
    "💡 **Q1.** Given an array of integers nums and an integer target, return indices of the two numbers such that they add up to target.\n",
    "\n",
    "You may assume that each input would have exactly one solution, and you may not use the same element twice.\n",
    "\n",
    "You can return the answer in any order.\n",
    "\n",
    "**Example:**\n",
    "Input: nums = [2,7,11,15], target = 9\n",
    "Output0 [0,1]\n",
    "\n",
    "**Explanation:** Because nums[0] + nums[1] == 9, we return [0, 1]"
   ]
  },
  {
   "cell_type": "code",
   "execution_count": null,
   "id": "af679ea9",
   "metadata": {},
   "outputs": [],
   "source": [
    "Solution:\n",
    "    \n",
    "To find the indices of two numbers in the given array that add up to the target, you can use a two-pointer approach. \n",
    "Here's the algorithm to solve this problem:\n",
    "\n",
    "(*)Initialize two pointers, \"left\" and \"right,\" pointing to the start and end of the array, respectively.\n",
    "(*)Iterate while the left pointer is less than the right pointer:\n",
    "Calculate the sum of the numbers at the left and right pointers: sum = nums[left] + nums[right].\n",
    "If the sum is equal to the target, return [left, right] as the indices.\n",
    "If the sum is less than the target, move the left pointer one step to the right (left += 1).\n",
    "If the sum is greater than the target, move the right pointer one step to the left (right -= 1).\n",
    "(*)If no solution is found, return an empty array.    "
   ]
  },
  {
   "cell_type": "code",
   "execution_count": 1,
   "id": "4199e196",
   "metadata": {},
   "outputs": [
    {
     "name": "stdout",
     "output_type": "stream",
     "text": [
      "[0, 1]\n"
     ]
    }
   ],
   "source": [
    "def twoSum(nums, target):\n",
    "    left = 0\n",
    "    right = len(nums) - 1\n",
    "\n",
    "    while left < right:\n",
    "        sum = nums[left] + nums[right]\n",
    "\n",
    "        if sum == target:\n",
    "            return [left, right]\n",
    "        elif sum < target:\n",
    "            left += 1\n",
    "        else:\n",
    "            right -= 1\n",
    "\n",
    "    return []\n",
    "\n",
    "# Example usage\n",
    "nums = [2, 7, 11, 15]\n",
    "target = 9\n",
    "result = twoSum(nums, target)\n",
    "print(result)"
   ]
  },
  {
   "cell_type": "code",
   "execution_count": null,
   "id": "5062c329",
   "metadata": {},
   "outputs": [],
   "source": []
  },
  {
   "cell_type": "code",
   "execution_count": null,
   "id": "f94a713d",
   "metadata": {},
   "outputs": [],
   "source": [
    "💡 **Q2.** Given an integer array nums and an integer val, remove all occurrences of val in nums in-place. The order of the elements may be changed. Then return the number of elements in nums which are not equal to val.\n",
    "\n",
    "Consider the number of elements in nums which are not equal to val be k, to get accepted, you need to do the following things:\n",
    "\n",
    "- Change the array nums such that the first k elements of nums contain the elements which are not equal to val. The remaining elements of nums are not important as well as the size of nums.\n",
    "- Return k.\n",
    "\n",
    "**Example :**\n",
    "Input: nums = [3,2,2,3], val = 3\n",
    "Output: 2, nums = [2,2,_*,_*]\n",
    "\n",
    "**Explanation:** Your function should return k = 2, with the first two elements of nums being 2. It does not matter what you leave beyond the returned k (hence they are underscores)\n"
   ]
  },
  {
   "cell_type": "code",
   "execution_count": null,
   "id": "9766e11b",
   "metadata": {},
   "outputs": [],
   "source": [
    "Solution:\n",
    "    \n",
    "To remove all occurrences of a given value from an integer array nums in-place, you can use a two-pointer approach. \n",
    "Here's the algorithm to solve this problem:\n",
    "\n",
    "(*)Initialize two pointers, left and right, pointing to the start and end of the array, respectively.\n",
    "(*)Iterate while right is within the bounds of the array:\n",
    "If the value at nums[right] is equal to the given value val, move the right pointer one step to the left (right -= 1).\n",
    "If the value at nums[right] is not equal to the given value val, replace the value at nums[left] with the value at nums[right]\n",
    "and move both pointers one step to the left (left += 1 and right -= 1).\n",
    "(*)Return the value of left as k, which represents the number of elements in nums that are not equal to val.    \n",
    "    "
   ]
  },
  {
   "cell_type": "code",
   "execution_count": 2,
   "id": "c81e32d4",
   "metadata": {},
   "outputs": [
    {
     "name": "stdout",
     "output_type": "stream",
     "text": [
      "3\n",
      "[2, 2, 2, 3]\n"
     ]
    }
   ],
   "source": [
    "def removeElement(nums, val):\n",
    "    left = 0\n",
    "    right = len(nums) - 1\n",
    "\n",
    "    while right >= 0:\n",
    "        if nums[right] == val:\n",
    "            right -= 1\n",
    "        else:\n",
    "            nums[left] = nums[right]\n",
    "            left += 1\n",
    "            right -= 1\n",
    "\n",
    "    return left\n",
    "\n",
    "# Example usage\n",
    "nums = [3, 2, 2, 3]\n",
    "val = 3\n",
    "k = removeElement(nums, val)\n",
    "print(k)  # Output: 2\n",
    "print(nums)"
   ]
  },
  {
   "cell_type": "code",
   "execution_count": null,
   "id": "caf140a8",
   "metadata": {},
   "outputs": [],
   "source": []
  },
  {
   "cell_type": "code",
   "execution_count": null,
   "id": "648287c0",
   "metadata": {},
   "outputs": [],
   "source": [
    "💡 **Q3.** Given a sorted array of distinct integers and a target value, return the index if the target is found. If not, return the index where it would be if it were inserted in order.\n",
    "\n",
    "You must write an algorithm with O(log n) runtime complexity.\n",
    "\n",
    "**Example 1:**\n",
    "Input: nums = [1,3,5,6], target = 5\n",
    "\n",
    "Output: 2\n"
   ]
  },
  {
   "cell_type": "code",
   "execution_count": null,
   "id": "166c5055",
   "metadata": {},
   "outputs": [],
   "source": [
    "Solution:\n",
    "    \n",
    "(*)Initialize two pointers, left and right, pointing to the start and end of the array, respectively.\n",
    "(*)While left is less than or equal to right, do the following:\n",
    "Calculate the middle index as mid using the formula: mid = left + (right - left) // 2.\n",
    "If the value at nums[mid] is equal to the target, return mid as the index.\n",
    "If the value at nums[mid] is less than the target, update left = mid + 1.\n",
    "If the value at nums[mid] is greater than the target, update right = mid - 1.\n",
    "(*)If the target value is not found in the array, return left as the index where it should be inserted.    \n",
    "      "
   ]
  },
  {
   "cell_type": "code",
   "execution_count": 3,
   "id": "32f68f39",
   "metadata": {},
   "outputs": [
    {
     "name": "stdout",
     "output_type": "stream",
     "text": [
      "2\n"
     ]
    }
   ],
   "source": [
    "def searchInsert(nums, target):\n",
    "    left = 0\n",
    "    right = len(nums) - 1\n",
    "\n",
    "    while left <= right:\n",
    "        mid = left + (right - left) // 2\n",
    "\n",
    "        if nums[mid] == target:\n",
    "            return mid\n",
    "        elif nums[mid] < target:\n",
    "            left = mid + 1\n",
    "        else:\n",
    "            right = mid - 1\n",
    "\n",
    "    return left\n",
    "\n",
    "# Example usage\n",
    "nums = [1, 3, 5, 6]\n",
    "target = 5\n",
    "index = searchInsert(nums, target)\n",
    "print(index)"
   ]
  },
  {
   "cell_type": "code",
   "execution_count": null,
   "id": "40ee5aa9",
   "metadata": {},
   "outputs": [],
   "source": []
  },
  {
   "cell_type": "code",
   "execution_count": null,
   "id": "3eead21a",
   "metadata": {},
   "outputs": [],
   "source": [
    "💡 **Q4.** You are given a large integer represented as an integer array digits, where each digits[i] is the ith digit of the integer. The digits are ordered from most significant to least significant in left-to-right order. The large integer does not contain any leading 0's.\n",
    "\n",
    "Increment the large integer by one and return the resulting array of digits.\n",
    "\n",
    "**Example 1:**\n",
    "Input: digits = [1,2,3]\n",
    "Output: [1,2,4]\n",
    "\n",
    "**Explanation:** The array represents the integer 123.\n",
    "\n",
    "Incrementing by one gives 123 + 1 = 124.\n",
    "Thus, the result should be [1,2,4]."
   ]
  },
  {
   "cell_type": "code",
   "execution_count": null,
   "id": "450a7452",
   "metadata": {},
   "outputs": [],
   "source": [
    "Solution:\n",
    "    \n",
    "(*)Initialize a carry variable with a value of 1.\n",
    "(*)Iterate through the digits array from right to left:\n",
    "Increment the current digit by the carry.\n",
    "If the resulting digit is less than 10, update the digit and set the carry to 0.\n",
    "If the resulting digit is 10, update the digit to 0 and set the carry to 1.\n",
    "Move to the next digit.\n",
    "(*)If there is still a carry after the iteration, insert it as the most significant digit in the array.\n",
    "(*)Return the updated array of digits.    "
   ]
  },
  {
   "cell_type": "code",
   "execution_count": 4,
   "id": "ff377862",
   "metadata": {},
   "outputs": [
    {
     "name": "stdout",
     "output_type": "stream",
     "text": [
      "[1, 2, 4]\n"
     ]
    }
   ],
   "source": [
    "def plusOne(digits):\n",
    "    carry = 1\n",
    "\n",
    "    for i in range(len(digits) - 1, -1, -1):\n",
    "        digits[i] += carry\n",
    "\n",
    "        if digits[i] < 10:\n",
    "            carry = 0\n",
    "            break\n",
    "        else:\n",
    "            digits[i] = 0\n",
    "\n",
    "    if carry == 1:\n",
    "        digits.insert(0, 1)\n",
    "\n",
    "    return digits\n",
    "\n",
    "# Example usage\n",
    "digits = [1, 2, 3]\n",
    "result = plusOne(digits)\n",
    "print(result)"
   ]
  },
  {
   "cell_type": "code",
   "execution_count": null,
   "id": "b5841ffb",
   "metadata": {},
   "outputs": [],
   "source": []
  },
  {
   "cell_type": "code",
   "execution_count": null,
   "id": "805b2e57",
   "metadata": {},
   "outputs": [],
   "source": [
    "💡 **Q5.** You are given two integer arrays nums1 and nums2, sorted in non-decreasing order, and two integers m and n, representing the number of elements in nums1 and nums2 respectively.\n",
    "\n",
    "Merge nums1 and nums2 into a single array sorted in non-decreasing order.\n",
    "\n",
    "The final sorted array should not be returned by the function, but instead be stored inside the array nums1. To accommodate this, nums1 has a length of m + n, where the first m elements denote the elements that should be merged, and the last n elements are set to 0 and should be ignored. nums2 has a length of n.\n",
    "\n",
    "**Example 1:**\n",
    "Input: nums1 = [1,2,3,0,0,0], m = 3, nums2 = [2,5,6], n = 3\n",
    "Output: [1,2,2,3,5,6]\n",
    "\n",
    "**Explanation:** The arrays we are merging are [1,2,3] and [2,5,6].\n",
    "The result of the merge is [1,2,2,3,5,6] with the underlined elements coming from nums1."
   ]
  },
  {
   "cell_type": "code",
   "execution_count": null,
   "id": "3da4ba20",
   "metadata": {},
   "outputs": [],
   "source": [
    "Solution:\n",
    "    \n",
    "(*)Initialize three pointers: p1 pointing to the last element of the non-zero elements in nums1, p2 pointing to the last \n",
    "    element of nums2, and p pointing to the last position of nums1 (i.e., m + n - 1).\n",
    "(*)While both p1 and p2 are within their respective arrays:\n",
    "Compare the elements at nums1[p1] and nums2[p2].\n",
    "Place the larger element at nums1[p].\n",
    "Move the pointer p1 or p2 one step to the left accordingly.\n",
    "Move the pointer p one step to the left.\n",
    "(*)If there are remaining elements in nums2 after the above loop, copy them to the remaining positions in nums1.\n",
    "(*)Return the modified nums1 array.    "
   ]
  },
  {
   "cell_type": "code",
   "execution_count": 5,
   "id": "697e2db4",
   "metadata": {},
   "outputs": [
    {
     "name": "stdout",
     "output_type": "stream",
     "text": [
      "[1, 2, 2, 3, 5, 6]\n"
     ]
    }
   ],
   "source": [
    "def merge(nums1, m, nums2, n):\n",
    "    p1 = m - 1\n",
    "    p2 = n - 1\n",
    "    p = m + n - 1\n",
    "\n",
    "    while p1 >= 0 and p2 >= 0:\n",
    "        if nums1[p1] > nums2[p2]:\n",
    "            nums1[p] = nums1[p1]\n",
    "            p1 -= 1\n",
    "        else:\n",
    "            nums1[p] = nums2[p2]\n",
    "            p2 -= 1\n",
    "        p -= 1\n",
    "\n",
    "    # Copy remaining elements from nums2 to nums1\n",
    "    nums1[:p2 + 1] = nums2[:p2 + 1]\n",
    "\n",
    "    return nums1\n",
    "\n",
    "# Example usage\n",
    "nums1 = [1, 2, 3, 0, 0, 0]\n",
    "m = 3\n",
    "nums2 = [2, 5, 6]\n",
    "n = 3\n",
    "result = merge(nums1, m, nums2, n)\n",
    "print(result)"
   ]
  },
  {
   "cell_type": "code",
   "execution_count": null,
   "id": "4ad7cbc5",
   "metadata": {},
   "outputs": [],
   "source": []
  },
  {
   "cell_type": "code",
   "execution_count": null,
   "id": "3bd85b34",
   "metadata": {},
   "outputs": [],
   "source": [
    "💡 **Q6.** Given an integer array nums, return true if any value appears at least twice in the array, and return false if every element is distinct.\n",
    "\n",
    "**Example 1:**\n",
    "Input: nums = [1,2,3,1]\n",
    "\n",
    "Output: true\n"
   ]
  },
  {
   "cell_type": "code",
   "execution_count": null,
   "id": "12941806",
   "metadata": {},
   "outputs": [],
   "source": [
    "Solution:\n",
    "    \n",
    "(*)Initialize an empty hash set.\n",
    "(*)Iterate through each element num in nums:\n",
    "If num is already present in the hash set, return True as duplicates are found.\n",
    "Otherwise, add num to the hash set.\n",
    "(*)If the loop completes without finding any duplicates, return False as all elements are distinct.    \n",
    "    "
   ]
  },
  {
   "cell_type": "code",
   "execution_count": 8,
   "id": "d070c496",
   "metadata": {},
   "outputs": [
    {
     "name": "stdout",
     "output_type": "stream",
     "text": [
      "True\n"
     ]
    }
   ],
   "source": [
    "def containsDuplicate(nums):\n",
    "    num_set = set()\n",
    "\n",
    "    for num in nums:\n",
    "        if num in num_set:\n",
    "            return True\n",
    "        num_set.add(num)\n",
    "\n",
    "    return False\n",
    "\n",
    "# Example usage\n",
    "nums = [1, 2, 3, 1]\n",
    "result = containsDuplicate(nums)\n",
    "print(result)"
   ]
  },
  {
   "cell_type": "code",
   "execution_count": null,
   "id": "0587c9df",
   "metadata": {},
   "outputs": [],
   "source": []
  },
  {
   "cell_type": "code",
   "execution_count": null,
   "id": "5434f2f8",
   "metadata": {},
   "outputs": [],
   "source": [
    "💡 **Q7.** Given an integer array nums, move all 0's to the end of it while maintaining the relative order of the nonzero elements.\n",
    "\n",
    "Note that you must do this in-place without making a copy of the array.\n",
    "\n",
    "**Example 1:**\n",
    "Input: nums = [0,1,0,3,12]\n",
    "Output: [1,3,12,0,0]\n"
   ]
  },
  {
   "cell_type": "code",
   "execution_count": null,
   "id": "33e7c3a2",
   "metadata": {},
   "outputs": [],
   "source": [
    "Solution:\n",
    "    \n",
    "To move all zeros to the end of an integer array nums while maintaining the relative order of the non-zero elements, you \n",
    "can use a two-pointer approach. One pointer, slow, keeps track of the position to which non-zero elements should be placed, \n",
    "and another pointer, fast, iterates through the array to find non-zero elements and swap them with the position indicated by\n",
    "slow.    "
   ]
  },
  {
   "cell_type": "code",
   "execution_count": 9,
   "id": "e94dedd9",
   "metadata": {},
   "outputs": [
    {
     "name": "stdout",
     "output_type": "stream",
     "text": [
      "[1, 3, 12, 0, 0]\n"
     ]
    }
   ],
   "source": [
    "def moveZeroes(nums):\n",
    "    slow = 0\n",
    "\n",
    "    for fast in range(len(nums)):\n",
    "        if nums[fast] != 0:\n",
    "            nums[slow], nums[fast] = nums[fast], nums[slow]\n",
    "            slow += 1\n",
    "\n",
    "    while slow < len(nums):\n",
    "        nums[slow] = 0\n",
    "        slow += 1\n",
    "\n",
    "    return nums\n",
    "\n",
    "# Example usage\n",
    "nums = [0, 1, 0, 3, 12]\n",
    "result = moveZeroes(nums)\n",
    "print(result)"
   ]
  },
  {
   "cell_type": "code",
   "execution_count": null,
   "id": "324a2aa0",
   "metadata": {},
   "outputs": [],
   "source": []
  },
  {
   "cell_type": "code",
   "execution_count": null,
   "id": "209d494f",
   "metadata": {},
   "outputs": [],
   "source": [
    "💡 **Q8.** You have a set of integers s, which originally contains all the numbers from 1 to n. Unfortunately, due to some error, one of the numbers in s got duplicated to another number in the set, which results in repetition of one number and loss of another number.\n",
    "\n",
    "You are given an integer array nums representing the data status of this set after the error.\n",
    "\n",
    "Find the number that occurs twice and the number that is missing and return them in the form of an array.\n",
    "\n",
    "**Example 1:**\n",
    "Input: nums = [1,2,2,4]\n",
    "Output: [2,3]\n"
   ]
  },
  {
   "cell_type": "code",
   "execution_count": null,
   "id": "0ebfc0a4",
   "metadata": {},
   "outputs": [],
   "source": [
    "Solution:\n",
    "    \n",
    "(*)Initialize an empty set.\n",
    "Initialize variables duplicate and n with values 0 and the length of nums respectively.\n",
    "(*)Iterate through each element num in nums:\n",
    "If num is already present in the set, set duplicate to num.\n",
    "(*)Add num to the set.\n",
    "Calculate the expected sum of numbers from 1 to n as expected_sum = n * (n + 1) // 2.\n",
    "Calculate the actual sum of elements in nums as actual_sum = sum(nums).\n",
    "(*)Calculate the missing number as missing = expected_sum - actual_sum + duplicate.\n",
    "(*)Return [duplicate, missing] as the output.    "
   ]
  },
  {
   "cell_type": "code",
   "execution_count": 10,
   "id": "e79fa2c3",
   "metadata": {},
   "outputs": [
    {
     "name": "stdout",
     "output_type": "stream",
     "text": [
      "[2, 3]\n"
     ]
    }
   ],
   "source": [
    "def findErrorNums(nums):\n",
    "    num_set = set()\n",
    "    duplicate = 0\n",
    "    n = len(nums)\n",
    "\n",
    "    for num in nums:\n",
    "        if num in num_set:\n",
    "            duplicate = num\n",
    "        num_set.add(num)\n",
    "\n",
    "    expected_sum = n * (n + 1) // 2\n",
    "    actual_sum = sum(nums)\n",
    "    missing = expected_sum - actual_sum + duplicate\n",
    "\n",
    "    return [duplicate, missing]\n",
    "\n",
    "# Example usage\n",
    "nums = [1, 2, 2, 4]\n",
    "result = findErrorNums(nums)\n",
    "print(result)"
   ]
  },
  {
   "cell_type": "code",
   "execution_count": null,
   "id": "0bb17e90",
   "metadata": {},
   "outputs": [],
   "source": []
  },
  {
   "cell_type": "code",
   "execution_count": null,
   "id": "32e7ad54",
   "metadata": {},
   "outputs": [],
   "source": []
  },
  {
   "cell_type": "code",
   "execution_count": null,
   "id": "efe6252c",
   "metadata": {},
   "outputs": [],
   "source": []
  },
  {
   "cell_type": "code",
   "execution_count": null,
   "id": "604b8266",
   "metadata": {},
   "outputs": [],
   "source": []
  },
  {
   "cell_type": "code",
   "execution_count": null,
   "id": "f794a92c",
   "metadata": {},
   "outputs": [],
   "source": []
  },
  {
   "cell_type": "code",
   "execution_count": null,
   "id": "6652d067",
   "metadata": {},
   "outputs": [],
   "source": []
  },
  {
   "cell_type": "code",
   "execution_count": null,
   "id": "70bd7a24",
   "metadata": {},
   "outputs": [],
   "source": []
  },
  {
   "cell_type": "code",
   "execution_count": null,
   "id": "638cea40",
   "metadata": {},
   "outputs": [],
   "source": []
  },
  {
   "cell_type": "code",
   "execution_count": null,
   "id": "a950d4c2",
   "metadata": {},
   "outputs": [],
   "source": []
  },
  {
   "cell_type": "code",
   "execution_count": null,
   "id": "25a4dfbf",
   "metadata": {},
   "outputs": [],
   "source": []
  },
  {
   "cell_type": "code",
   "execution_count": null,
   "id": "eb85f368",
   "metadata": {},
   "outputs": [],
   "source": []
  }
 ],
 "metadata": {
  "kernelspec": {
   "display_name": "Python 3 (ipykernel)",
   "language": "python",
   "name": "python3"
  },
  "language_info": {
   "codemirror_mode": {
    "name": "ipython",
    "version": 3
   },
   "file_extension": ".py",
   "mimetype": "text/x-python",
   "name": "python",
   "nbconvert_exporter": "python",
   "pygments_lexer": "ipython3",
   "version": "3.9.12"
  }
 },
 "nbformat": 4,
 "nbformat_minor": 5
}
